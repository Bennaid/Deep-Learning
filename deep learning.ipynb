{
 "cells": [
  {
   "cell_type": "markdown",
   "metadata": {},
   "source": [
    "# Setup\n",
    "\n",
    "Importation des modules nécessaires à la réalisation du Notebook. J'ai dû créer un nouvel environnement virtuel sous Python 3.5 vu que Keras n'est pas pris en charge par la dernière version de Python."
   ]
  },
  {
   "cell_type": "code",
   "execution_count": 8,
   "metadata": {},
   "outputs": [],
   "source": [
    "import tensorflow as tf\n",
    "\n",
    "# Common imports\n",
    "import numpy as np\n",
    "import os\n",
    "\n",
    "# to make this notebook's output stable across runs\n",
    "np.random.seed(42)\n",
    "\n",
    "# To plot pretty figures\n",
    "%matplotlib inline\n",
    "import matplotlib as mpl\n",
    "import matplotlib.pyplot as plt\n",
    "mpl.rc('axes', labelsize=14)\n",
    "mpl.rc('xtick', labelsize=12)\n",
    "mpl.rc('ytick', labelsize=12)\n",
    "\n",
    "# Ignore useless warnings (see SciPy issue #5998)\n",
    "import warnings\n",
    "warnings.filterwarnings(action=\"ignore\", message=\"^internal gelsd\")"
   ]
  },
  {
   "cell_type": "markdown",
   "metadata": {},
   "source": [
    "# Building an Image Classifier\n",
    "\n",
    "Importation de TenserFlow et Keras."
   ]
  },
  {
   "cell_type": "code",
   "execution_count": 2,
   "metadata": {},
   "outputs": [],
   "source": [
    "import tensorflow as tf\n",
    "from tensorflow import keras"
   ]
  },
  {
   "cell_type": "code",
   "execution_count": 3,
   "metadata": {},
   "outputs": [
    {
     "data": {
      "text/plain": [
       "'2.1.0'"
      ]
     },
     "execution_count": 3,
     "metadata": {},
     "output_type": "execute_result"
    }
   ],
   "source": [
    "tf.__version__"
   ]
  },
  {
   "cell_type": "code",
   "execution_count": 4,
   "metadata": {},
   "outputs": [
    {
     "name": "stdout",
     "output_type": "stream",
     "text": [
      "Downloading data from https://storage.googleapis.com/tensorflow/tf-keras-datasets/train-labels-idx1-ubyte.gz\n",
      "32768/29515 [=================================] - 0s 1us/step\n",
      "Downloading data from https://storage.googleapis.com/tensorflow/tf-keras-datasets/train-images-idx3-ubyte.gz\n",
      "26427392/26421880 [==============================] - 8s 0us/step\n",
      "Downloading data from https://storage.googleapis.com/tensorflow/tf-keras-datasets/t10k-labels-idx1-ubyte.gz\n",
      "8192/5148 [===============================================] - 0s 0s/step\n",
      "Downloading data from https://storage.googleapis.com/tensorflow/tf-keras-datasets/t10k-images-idx3-ubyte.gz\n",
      "4423680/4422102 [==============================] - 1s 0us/step\n"
     ]
    }
   ],
   "source": [
    "fashion_mnist = keras.datasets.fashion_mnist\n",
    "(X_train_full, y_train_full), (X_test, y_test) = fashion_mnist.load_data()"
   ]
  },
  {
   "cell_type": "code",
   "execution_count": 5,
   "metadata": {},
   "outputs": [
    {
     "data": {
      "text/plain": [
       "(60000, 28, 28)"
      ]
     },
     "execution_count": 5,
     "metadata": {},
     "output_type": "execute_result"
    }
   ],
   "source": [
    "X_train_full.shape"
   ]
  },
  {
   "cell_type": "code",
   "execution_count": 6,
   "metadata": {},
   "outputs": [
    {
     "data": {
      "text/plain": [
       "dtype('uint8')"
      ]
     },
     "execution_count": 6,
     "metadata": {},
     "output_type": "execute_result"
    }
   ],
   "source": [
    "X_train_full.dtype"
   ]
  },
  {
   "cell_type": "code",
   "execution_count": 7,
   "metadata": {},
   "outputs": [],
   "source": [
    "X_valid, X_train = X_train_full[:5000] / 255., X_train_full[5000:] / 255.\n",
    "y_valid, y_train = y_train_full[:5000], y_train_full[5000:]\n",
    "X_test = X_test / 255."
   ]
  },
  {
   "cell_type": "code",
   "execution_count": 9,
   "metadata": {},
   "outputs": [
    {
     "data": {
      "image/png": "[encoded data removed]",
      "text/plain": [
       "<Figure size 432x288 with 1 Axes>"
      ]
     },
     "metadata": {
      "needs_background": "light"
     },
     "output_type": "display_data"
    }
   ],
   "source": [
    "plt.imshow(X_train[0], cmap=\"binary\")\n",
    "plt.axis('off')\n",
    "plt.show()"
   ]
  },
  {
   "cell_type": "code",
   "execution_count": 10,
   "metadata": {},
   "outputs": [
    {
     "data": {
      "text/plain": [
       "array([4, 0, 7, ..., 3, 0, 5], dtype=uint8)"
      ]
     },
     "execution_count": 10,
     "metadata": {},
     "output_type": "execute_result"
    }
   ],
   "source": [
    "y_train"
   ]
  },
  {
   "cell_type": "code",
   "execution_count": 11,
   "metadata": {},
   "outputs": [],
   "source": [
    "class_names = [\"T-shirt/top\", \"Trouser\", \"Pullover\", \"Dress\", \"Coat\",\n",
    "               \"Sandal\", \"Shirt\", \"Sneaker\", \"Bag\", \"Ankle boot\"]"
   ]
  },
  {
   "cell_type": "code",
   "execution_count": 12,
   "metadata": {},
   "outputs": [
    {
     "data": {
      "text/plain": [
       "'Coat'"
      ]
     },
     "execution_count": 12,
     "metadata": {},
     "output_type": "execute_result"
    }
   ],
   "source": [
    "class_names[y_train[0]]"
   ]
  },
  {
   "cell_type": "code",
   "execution_count": 13,
   "metadata": {},
   "outputs": [
    {
     "data": {
      "text/plain": [
       "(5000, 28, 28)"
      ]
     },
     "execution_count": 13,
     "metadata": {},
     "output_type": "execute_result"
    }
   ],
   "source": [
    "X_valid.shape"
   ]
  },
  {
   "cell_type": "code",
   "execution_count": 14,
   "metadata": {},
   "outputs": [
    {
     "data": {
      "text/plain": [
       "(10000, 28, 28)"
      ]
     },
     "execution_count": 14,
     "metadata": {},
     "output_type": "execute_result"
    }
   ],
   "source": [
    "X_test.shape"
   ]
  },
  {
   "cell_type": "code",
   "execution_count": 15,
   "metadata": {},
   "outputs": [
    {
     "data": {
      "image/png": "[encoded data removed]",
      "text/plain": [
       "<Figure size 864x345.6 with 40 Axes>"
      ]
     },
     "metadata": {
      "needs_background": "light"
     },
     "output_type": "display_data"
    }
   ],
   "source": [
    "n_rows = 4\n",
    "n_cols = 10\n",
    "plt.figure(figsize=(n_cols * 1.2, n_rows * 1.2))\n",
    "for row in range(n_rows):\n",
    "    for col in range(n_cols):\n",
    "        index = n_cols * row + col\n",
    "        plt.subplot(n_rows, n_cols, index + 1)\n",
    "        plt.imshow(X_train[index], cmap=\"binary\", interpolation=\"nearest\")\n",
    "        plt.axis('off')\n",
    "        plt.title(class_names[y_train[index]], fontsize=12)\n",
    "plt.subplots_adjust(wspace=0.2, hspace=0.5)\n",
    "plt.show()"
   ]
  },
  {
   "cell_type": "code",
   "execution_count": 16,
   "metadata": {},
   "outputs": [],
   "source": [
    "model = keras.models.Sequential()\n",
    "model.add(keras.layers.Flatten(input_shape=[28, 28]))\n",
    "model.add(keras.layers.Dense(300, activation=\"relu\"))\n",
    "model.add(keras.layers.Dense(100, activation=\"relu\"))\n",
    "model.add(keras.layers.Dense(10, activation=\"softmax\"))"
   ]
  },
  {
   "cell_type": "code",
   "execution_count": 17,
   "metadata": {},
   "outputs": [],
   "source": [
    "keras.backend.clear_session()\n",
    "np.random.seed(42)"
   ]
  },
  {
   "cell_type": "code",
   "execution_count": 18,
   "metadata": {},
   "outputs": [
    {
     "data": {
      "text/plain": [
       "[<tensorflow.python.keras.layers.core.Flatten at 0x19bfa5ed748>,\n",
       " <tensorflow.python.keras.layers.core.Dense at 0x19bfa540160>,\n",
       " <tensorflow.python.keras.layers.core.Dense at 0x19bef3058d0>,\n",
       " <tensorflow.python.keras.layers.core.Dense at 0x19bfa8da9e8>]"
      ]
     },
     "execution_count": 18,
     "metadata": {},
     "output_type": "execute_result"
    }
   ],
   "source": [
    "model.layers"
   ]
  },
  {
   "cell_type": "code",
   "execution_count": 19,
   "metadata": {},
   "outputs": [
    {
     "name": "stdout",
     "output_type": "stream",
     "text": [
      "Model: \"sequential\"\n",
      "_________________________________________________________________\n",
      "Layer (type)                 Output Shape              Param #   \n",
      "=================================================================\n",
      "flatten (Flatten)            (None, 784)               0         \n",
      "_________________________________________________________________\n",
      "dense (Dense)                (None, 300)               235500    \n",
      "_________________________________________________________________\n",
      "dense_1 (Dense)              (None, 100)               30100     \n",
      "_________________________________________________________________\n",
      "dense_2 (Dense)              (None, 10)                1010      \n",
      "=================================================================\n",
      "Total params: 266,610\n",
      "Trainable params: 266,610\n",
      "Non-trainable params: 0\n",
      "_________________________________________________________________\n"
     ]
    }
   ],
   "source": [
    "model.summary()"
   ]
  },
  {
   "cell_type": "code",
   "execution_count": 20,
   "metadata": {},
   "outputs": [],
   "source": [
    "#keras.utils.plot_model(model, \"my_mnist_model.png\", show_shapes=True)"
   ]
  },
  {
   "cell_type": "code",
   "execution_count": 21,
   "metadata": {},
   "outputs": [
    {
     "data": {
      "text/plain": [
       "'dense'"
      ]
     },
     "execution_count": 21,
     "metadata": {},
     "output_type": "execute_result"
    }
   ],
   "source": [
    "hidden1 = model.layers[1]\n",
    "hidden1.name"
   ]
  },
  {
   "cell_type": "code",
   "execution_count": 22,
   "metadata": {},
   "outputs": [
    {
     "data": {
      "text/plain": [
       "True"
      ]
     },
     "execution_count": 22,
     "metadata": {},
     "output_type": "execute_result"
    }
   ],
   "source": [
    "model.get_layer(hidden1.name) is hidden1"
   ]
  },
  {
   "cell_type": "code",
   "execution_count": 23,
   "metadata": {},
   "outputs": [],
   "source": [
    "weights, biases = hidden1.get_weights()"
   ]
  },
  {
   "cell_type": "code",
   "execution_count": 24,
   "metadata": {},
   "outputs": [
    {
     "data": {
      "text/plain": [
       "array([[ 0.07219879, -0.0056218 , -0.07075714, ...,  0.0554882 ,\n",
       "         0.05474485,  0.04414514],\n",
       "       [-0.06216688,  0.04438352, -0.0143625 , ...,  0.01229043,\n",
       "         0.06521963,  0.00763559],\n",
       "       [-0.04695994, -0.00469483, -0.01465943, ..., -0.02406379,\n",
       "         0.06543149, -0.05986503],\n",
       "       ...,\n",
       "       [ 0.06627695,  0.01874816,  0.04491352, ..., -0.06754985,\n",
       "         0.04425526, -0.04941757],\n",
       "       [ 0.07030755,  0.00535956, -0.0329221 , ..., -0.0093566 ,\n",
       "        -0.0714071 , -0.06420936],\n",
       "       [-0.03692379, -0.01417703,  0.05854438, ...,  0.00756101,\n",
       "         0.00894978, -0.06229187]], dtype=float32)"
      ]
     },
     "execution_count": 24,
     "metadata": {},
     "output_type": "execute_result"
    }
   ],
   "source": [
    "weights"
   ]
  },
  {
   "cell_type": "code",
   "execution_count": 25,
   "metadata": {},
   "outputs": [
    {
     "data": {
      "text/plain": [
       "(784, 300)"
      ]
     },
     "execution_count": 25,
     "metadata": {},
     "output_type": "execute_result"
    }
   ],
   "source": [
    "weights.shape"
   ]
  },
  {
   "cell_type": "code",
   "execution_count": 26,
   "metadata": {},
   "outputs": [
    {
     "data": {
      "text/plain": [
       "array([0., 0., 0., 0., 0., 0., 0., 0., 0., 0., 0., 0., 0., 0., 0., 0., 0.,\n",
       "       0., 0., 0., 0., 0., 0., 0., 0., 0., 0., 0., 0., 0., 0., 0., 0., 0.,\n",
       "       0., 0., 0., 0., 0., 0., 0., 0., 0., 0., 0., 0., 0., 0., 0., 0., 0.,\n",
       "       0., 0., 0., 0., 0., 0., 0., 0., 0., 0., 0., 0., 0., 0., 0., 0., 0.,\n",
       "       0., 0., 0., 0., 0., 0., 0., 0., 0., 0., 0., 0., 0., 0., 0., 0., 0.,\n",
       "       0., 0., 0., 0., 0., 0., 0., 0., 0., 0., 0., 0., 0., 0., 0., 0., 0.,\n",
       "       0., 0., 0., 0., 0., 0., 0., 0., 0., 0., 0., 0., 0., 0., 0., 0., 0.,\n",
       "       0., 0., 0., 0., 0., 0., 0., 0., 0., 0., 0., 0., 0., 0., 0., 0., 0.,\n",
       "       0., 0., 0., 0., 0., 0., 0., 0., 0., 0., 0., 0., 0., 0., 0., 0., 0.,\n",
       "       0., 0., 0., 0., 0., 0., 0., 0., 0., 0., 0., 0., 0., 0., 0., 0., 0.,\n",
       "       0., 0., 0., 0., 0., 0., 0., 0., 0., 0., 0., 0., 0., 0., 0., 0., 0.,\n",
       "       0., 0., 0., 0., 0., 0., 0., 0., 0., 0., 0., 0., 0., 0., 0., 0., 0.,\n",
       "       0., 0., 0., 0., 0., 0., 0., 0., 0., 0., 0., 0., 0., 0., 0., 0., 0.,\n",
       "       0., 0., 0., 0., 0., 0., 0., 0., 0., 0., 0., 0., 0., 0., 0., 0., 0.,\n",
       "       0., 0., 0., 0., 0., 0., 0., 0., 0., 0., 0., 0., 0., 0., 0., 0., 0.,\n",
       "       0., 0., 0., 0., 0., 0., 0., 0., 0., 0., 0., 0., 0., 0., 0., 0., 0.,\n",
       "       0., 0., 0., 0., 0., 0., 0., 0., 0., 0., 0., 0., 0., 0., 0., 0., 0.,\n",
       "       0., 0., 0., 0., 0., 0., 0., 0., 0., 0., 0.], dtype=float32)"
      ]
     },
     "execution_count": 26,
     "metadata": {},
     "output_type": "execute_result"
    }
   ],
   "source": [
    "biases"
   ]
  },
  {
   "cell_type": "code",
   "execution_count": 27,
   "metadata": {},
   "outputs": [
    {
     "data": {
      "text/plain": [
       "(300,)"
      ]
     },
     "execution_count": 27,
     "metadata": {},
     "output_type": "execute_result"
    }
   ],
   "source": [
    "biases.shape"
   ]
  },
  {
   "cell_type": "code",
   "execution_count": 28,
   "metadata": {},
   "outputs": [],
   "source": [
    "model.compile(loss=\"sparse_categorical_crossentropy\",\n",
    "              optimizer=\"sgd\",\n",
    "              metrics=[\"accuracy\"])"
   ]
  },
  {
   "cell_type": "code",
   "execution_count": 29,
   "metadata": {},
   "outputs": [
    {
     "name": "stdout",
     "output_type": "stream",
     "text": [
      "Train on 55000 samples, validate on 5000 samples\n",
      "Epoch 1/30\n",
      "55000/55000 [==============================] - 5s 98us/sample - loss: 0.7287 - accuracy: 0.7642 - val_loss: 0.5054 - val_accuracy: 0.8290\n",
      "Epoch 2/30\n",
      "55000/55000 [==============================] - 5s 82us/sample - loss: 0.4895 - accuracy: 0.8287 - val_loss: 0.4514 - val_accuracy: 0.8438\n",
      "Epoch 3/30\n",
      "55000/55000 [==============================] - 5s 87us/sample - loss: 0.4429 - accuracy: 0.8443 - val_loss: 0.4107 - val_accuracy: 0.8592\n",
      "Epoch 4/30\n",
      "55000/55000 [==============================] - 5s 92us/sample - loss: 0.4159 - accuracy: 0.8540 - val_loss: 0.3914 - val_accuracy: 0.8662\n",
      "Epoch 5/30\n",
      "55000/55000 [==============================] - 5s 82us/sample - loss: 0.3953 - accuracy: 0.8605 - val_loss: 0.3863 - val_accuracy: 0.8724\n",
      "Epoch 6/30\n",
      "55000/55000 [==============================] - 4s 82us/sample - loss: 0.3798 - accuracy: 0.8663 - val_loss: 0.3780 - val_accuracy: 0.8640\n",
      "Epoch 7/30\n",
      "55000/55000 [==============================] - 5s 90us/sample - loss: 0.3664 - accuracy: 0.8708 - val_loss: 0.3679 - val_accuracy: 0.8754\n",
      "Epoch 8/30\n",
      "55000/55000 [==============================] - 5s 87us/sample - loss: 0.3550 - accuracy: 0.8734 - val_loss: 0.3646 - val_accuracy: 0.8744\n",
      "Epoch 9/30\n",
      "55000/55000 [==============================] - 5s 85us/sample - loss: 0.3443 - accuracy: 0.8770 - val_loss: 0.3568 - val_accuracy: 0.8734\n",
      "Epoch 10/30\n",
      "55000/55000 [==============================] - 4s 79us/sample - loss: 0.3351 - accuracy: 0.8801 - val_loss: 0.3441 - val_accuracy: 0.8814\n",
      "Epoch 11/30\n",
      "55000/55000 [==============================] - 5s 99us/sample - loss: 0.3261 - accuracy: 0.8835 - val_loss: 0.3456 - val_accuracy: 0.8750\n",
      "Epoch 12/30\n",
      "55000/55000 [==============================] - 5s 88us/sample - loss: 0.3199 - accuracy: 0.8857 - val_loss: 0.3360 - val_accuracy: 0.8786\n",
      "Epoch 13/30\n",
      "55000/55000 [==============================] - 5s 86us/sample - loss: 0.3126 - accuracy: 0.8875 - val_loss: 0.3419 - val_accuracy: 0.8764\n",
      "Epoch 14/30\n",
      "55000/55000 [==============================] - 5s 92us/sample - loss: 0.3058 - accuracy: 0.8894 - val_loss: 0.3431 - val_accuracy: 0.8796\n",
      "Epoch 15/30\n",
      "55000/55000 [==============================] - 5s 88us/sample - loss: 0.2980 - accuracy: 0.8922 - val_loss: 0.3438 - val_accuracy: 0.8786\n",
      "Epoch 16/30\n",
      "55000/55000 [==============================] - 5s 89us/sample - loss: 0.2932 - accuracy: 0.8943 - val_loss: 0.3183 - val_accuracy: 0.8860\n",
      "Epoch 17/30\n",
      "55000/55000 [==============================] - 6s 104us/sample - loss: 0.2875 - accuracy: 0.8965 - val_loss: 0.3200 - val_accuracy: 0.8854\n",
      "Epoch 18/30\n",
      "55000/55000 [==============================] - 5s 92us/sample - loss: 0.2826 - accuracy: 0.8981 - val_loss: 0.3087 - val_accuracy: 0.8898\n",
      "Epoch 19/30\n",
      "55000/55000 [==============================] - 6s 106us/sample - loss: 0.2765 - accuracy: 0.9010 - val_loss: 0.3206 - val_accuracy: 0.8850\n",
      "Epoch 20/30\n",
      "55000/55000 [==============================] - 5s 84us/sample - loss: 0.2722 - accuracy: 0.9009 - val_loss: 0.3100 - val_accuracy: 0.8872\n",
      "Epoch 21/30\n",
      "55000/55000 [==============================] - 4s 81us/sample - loss: 0.2672 - accuracy: 0.9033 - val_loss: 0.3322 - val_accuracy: 0.8812\n",
      "Epoch 22/30\n",
      "55000/55000 [==============================] - 5s 99us/sample - loss: 0.2638 - accuracy: 0.9047 - val_loss: 0.3039 - val_accuracy: 0.8920\n",
      "Epoch 23/30\n",
      "55000/55000 [==============================] - 5s 83us/sample - loss: 0.2575 - accuracy: 0.9072 - val_loss: 0.3255 - val_accuracy: 0.8838\n",
      "Epoch 24/30\n",
      "55000/55000 [==============================] - 5s 86us/sample - loss: 0.2540 - accuracy: 0.9081 - val_loss: 0.2984 - val_accuracy: 0.8910\n",
      "Epoch 25/30\n",
      "55000/55000 [==============================] - 4s 78us/sample - loss: 0.2491 - accuracy: 0.9098 - val_loss: 0.3001 - val_accuracy: 0.8918\n",
      "Epoch 26/30\n",
      "55000/55000 [==============================] - 4s 78us/sample - loss: 0.2456 - accuracy: 0.9125 - val_loss: 0.3006 - val_accuracy: 0.8888\n",
      "Epoch 27/30\n",
      "55000/55000 [==============================] - 5s 84us/sample - loss: 0.2421 - accuracy: 0.9133 - val_loss: 0.3191 - val_accuracy: 0.8822\n",
      "Epoch 28/30\n",
      "55000/55000 [==============================] - 4s 81us/sample - loss: 0.2377 - accuracy: 0.9139 - val_loss: 0.2974 - val_accuracy: 0.8926\n",
      "Epoch 29/30\n",
      "55000/55000 [==============================] - 4s 78us/sample - loss: 0.2332 - accuracy: 0.9163 - val_loss: 0.3146 - val_accuracy: 0.8888\n",
      "Epoch 30/30\n",
      "55000/55000 [==============================] - 4s 78us/sample - loss: 0.2297 - accuracy: 0.9168 - val_loss: 0.3160 - val_accuracy: 0.8866\n"
     ]
    }
   ],
   "source": [
    "history = model.fit(X_train, y_train, batch_size=32, epochs=30,\n",
    "                    validation_data=(X_valid, y_valid))"
   ]
  },
  {
   "cell_type": "code",
   "execution_count": 30,
   "metadata": {},
   "outputs": [
    {
     "data": {
      "text/plain": [
       "{'batch_size': 32,\n",
       " 'epochs': 30,\n",
       " 'steps': 1719,\n",
       " 'samples': 55000,\n",
       " 'verbose': 0,\n",
       " 'do_validation': True,\n",
       " 'metrics': ['loss', 'accuracy', 'val_loss', 'val_accuracy']}"
      ]
     },
     "execution_count": 30,
     "metadata": {},
     "output_type": "execute_result"
    }
   ],
   "source": [
    "history.params"
   ]
  },
  {
   "cell_type": "code",
   "execution_count": 31,
   "metadata": {},
   "outputs": [
    {
     "name": "stdout",
     "output_type": "stream",
     "text": [
      "[0, 1, 2, 3, 4, 5, 6, 7, 8, 9, 10, 11, 12, 13, 14, 15, 16, 17, 18, 19, 20, 21, 22, 23, 24, 25, 26, 27, 28, 29]\n"
     ]
    }
   ],
   "source": [
    "print(history.epoch)"
   ]
  },
  {
   "cell_type": "code",
   "execution_count": 32,
   "metadata": {},
   "outputs": [
    {
     "data": {
      "text/plain": [
       "dict_keys(['loss', 'accuracy', 'val_loss', 'val_accuracy'])"
      ]
     },
     "execution_count": 32,
     "metadata": {},
     "output_type": "execute_result"
    }
   ],
   "source": [
    "history.history.keys()"
   ]
  },
  {
   "cell_type": "code",
   "execution_count": 33,
   "metadata": {},
   "outputs": [
    {
     "data": {
      "image/png": "[encoded data removed]",
      "text/plain": [
       "<Figure size 576x360 with 1 Axes>"
      ]
     },
     "metadata": {
      "needs_background": "light"
     },
     "output_type": "display_data"
    }
   ],
   "source": [
    "import pandas as pd\n",
    "\n",
    "pd.DataFrame(history.history).plot(figsize=(8, 5))\n",
    "plt.grid(True)\n",
    "plt.gca().set_ylim(0, 1)\n",
    "plt.show()"
   ]
  },
  {
   "cell_type": "code",
   "execution_count": 34,
   "metadata": {},
   "outputs": [
    {
     "name": "stdout",
     "output_type": "stream",
     "text": [
      "10000/10000 [==============================] - 1s 50us/sample - loss: 0.3408 - accuracy: 0.8801\n"
     ]
    },
    {
     "data": {
      "text/plain": [
       "[0.34080320533514025, 0.8801]"
      ]
     },
     "execution_count": 34,
     "metadata": {},
     "output_type": "execute_result"
    }
   ],
   "source": [
    "model.evaluate(X_test, y_test)"
   ]
  },
  {
   "cell_type": "code",
   "execution_count": 35,
   "metadata": {},
   "outputs": [
    {
     "data": {
      "text/plain": [
       "array([[0.  , 0.  , 0.  , 0.  , 0.  , 0.01, 0.  , 0.02, 0.  , 0.98],\n",
       "       [0.  , 0.  , 1.  , 0.  , 0.  , 0.  , 0.  , 0.  , 0.  , 0.  ],\n",
       "       [0.  , 1.  , 0.  , 0.  , 0.  , 0.  , 0.  , 0.  , 0.  , 0.  ]],\n",
       "      dtype=float32)"
      ]
     },
     "execution_count": 35,
     "metadata": {},
     "output_type": "execute_result"
    }
   ],
   "source": [
    "X_new = X_test[:3]\n",
    "y_proba = model.predict(X_new)\n",
    "y_proba.round(2)"
   ]
  },
  {
   "cell_type": "code",
   "execution_count": 36,
   "metadata": {},
   "outputs": [
    {
     "data": {
      "text/plain": [
       "array([9, 2, 1], dtype=int64)"
      ]
     },
     "execution_count": 36,
     "metadata": {},
     "output_type": "execute_result"
    }
   ],
   "source": [
    "y_pred = model.predict_classes(X_new)\n",
    "y_pred"
   ]
  },
  {
   "cell_type": "code",
   "execution_count": 37,
   "metadata": {},
   "outputs": [
    {
     "data": {
      "text/plain": [
       "array(['Ankle boot', 'Pullover', 'Trouser'], dtype='<U11')"
      ]
     },
     "execution_count": 37,
     "metadata": {},
     "output_type": "execute_result"
    }
   ],
   "source": [
    "np.array(class_names)[y_pred]"
   ]
  },
  {
   "cell_type": "code",
   "execution_count": 38,
   "metadata": {},
   "outputs": [
    {
     "data": {
      "text/plain": [
       "array([9, 2, 1], dtype=uint8)"
      ]
     },
     "execution_count": 38,
     "metadata": {},
     "output_type": "execute_result"
    }
   ],
   "source": [
    "y_new = y_test[:3]\n",
    "y_new"
   ]
  },
  {
   "cell_type": "code",
   "execution_count": 39,
   "metadata": {},
   "outputs": [
    {
     "data": {
      "image/png": "[encoded data removed]",
      "text/plain": [
       "<Figure size 518.4x172.8 with 3 Axes>"
      ]
     },
     "metadata": {
      "needs_background": "light"
     },
     "output_type": "display_data"
    }
   ],
   "source": [
    "plt.figure(figsize=(7.2, 2.4))\n",
    "for index, image in enumerate(X_new):\n",
    "    plt.subplot(1, 3, index + 1)\n",
    "    plt.imshow(image, cmap=\"binary\", interpolation=\"nearest\")\n",
    "    plt.axis('off')\n",
    "    plt.title(class_names[y_test[index]], fontsize=12)\n",
    "plt.subplots_adjust(wspace=0.2, hspace=0.5)\n",
    "plt.show()"
   ]
  },
  {
   "cell_type": "markdown",
   "metadata": {},
   "source": [
    "# Exercice\n",
    "## 1) Plot Learning curves when using different optimizers"
   ]
  },
  {
   "cell_type": "code",
   "execution_count": null,
   "metadata": {},
   "outputs": [],
   "source": [
    "Using Adam optimizer \n"
   ]
  },
  {
   "cell_type": "code",
   "execution_count": 40,
   "metadata": {},
   "outputs": [],
   "source": [
    "model.compile(loss=\"sparse_categorical_crossentropy\",\n",
    "              optimizer=\"Adam\",\n",
    "              metrics=[\"accuracy\"])"
   ]
  },
  {
   "cell_type": "code",
   "execution_count": 41,
   "metadata": {},
   "outputs": [
    {
     "name": "stdout",
     "output_type": "stream",
     "text": [
      "Train on 55000 samples, validate on 5000 samples\n",
      "Epoch 1/30\n",
      "55000/55000 [==============================] - 8s 141us/sample - loss: 0.3752 - accuracy: 0.8624 - val_loss: 0.3957 - val_accuracy: 0.8550\n",
      "Epoch 2/30\n",
      "55000/55000 [==============================] - 8s 139us/sample - loss: 0.3296 - accuracy: 0.8781 - val_loss: 0.3172 - val_accuracy: 0.8846\n",
      "Epoch 3/30\n",
      "55000/55000 [==============================] - 7s 136us/sample - loss: 0.3095 - accuracy: 0.8845 - val_loss: 0.3473 - val_accuracy: 0.8764\n",
      "Epoch 4/30\n",
      "55000/55000 [==============================] - 7s 126us/sample - loss: 0.2901 - accuracy: 0.8912 - val_loss: 0.3157 - val_accuracy: 0.8816\n",
      "Epoch 5/30\n",
      "55000/55000 [==============================] - 7s 123us/sample - loss: 0.2760 - accuracy: 0.8978 - val_loss: 0.3008 - val_accuracy: 0.8900\n",
      "Epoch 6/30\n",
      "55000/55000 [==============================] - 7s 121us/sample - loss: 0.2606 - accuracy: 0.9025 - val_loss: 0.3165 - val_accuracy: 0.8790\n",
      "Epoch 7/30\n",
      "55000/55000 [==============================] - 6s 116us/sample - loss: 0.2499 - accuracy: 0.9067 - val_loss: 0.3172 - val_accuracy: 0.8864\n",
      "Epoch 8/30\n",
      "55000/55000 [==============================] - 6s 105us/sample - loss: 0.2405 - accuracy: 0.9099 - val_loss: 0.3080 - val_accuracy: 0.8870\n",
      "Epoch 9/30\n",
      "55000/55000 [==============================] - 6s 111us/sample - loss: 0.2307 - accuracy: 0.9135 - val_loss: 0.3142 - val_accuracy: 0.8924\n",
      "Epoch 10/30\n",
      "55000/55000 [==============================] - 6s 101us/sample - loss: 0.2232 - accuracy: 0.9150 - val_loss: 0.3251 - val_accuracy: 0.8884\n",
      "Epoch 11/30\n",
      "55000/55000 [==============================] - 6s 103us/sample - loss: 0.2134 - accuracy: 0.9202 - val_loss: 0.3073 - val_accuracy: 0.8942\n",
      "Epoch 12/30\n",
      "55000/55000 [==============================] - 6s 110us/sample - loss: 0.2070 - accuracy: 0.9211 - val_loss: 0.3126 - val_accuracy: 0.8936\n",
      "Epoch 13/30\n",
      "55000/55000 [==============================] - 6s 103us/sample - loss: 0.1985 - accuracy: 0.9239 - val_loss: 0.3069 - val_accuracy: 0.8960\n",
      "Epoch 14/30\n",
      "55000/55000 [==============================] - 6s 107us/sample - loss: 0.1927 - accuracy: 0.9268 - val_loss: 0.3141 - val_accuracy: 0.9014\n",
      "Epoch 15/30\n",
      "55000/55000 [==============================] - 6s 106us/sample - loss: 0.1900 - accuracy: 0.9279 - val_loss: 0.3161 - val_accuracy: 0.9000\n",
      "Epoch 16/30\n",
      "55000/55000 [==============================] - 6s 103us/sample - loss: 0.1812 - accuracy: 0.9311 - val_loss: 0.3270 - val_accuracy: 0.8936\n",
      "Epoch 17/30\n",
      "55000/55000 [==============================] - 6s 111us/sample - loss: 0.1771 - accuracy: 0.9320 - val_loss: 0.3407 - val_accuracy: 0.8932\n",
      "Epoch 18/30\n",
      "55000/55000 [==============================] - 6s 102us/sample - loss: 0.1702 - accuracy: 0.9356 - val_loss: 0.3380 - val_accuracy: 0.8968\n",
      "Epoch 19/30\n",
      "55000/55000 [==============================] - 6s 102us/sample - loss: 0.1677 - accuracy: 0.9358 - val_loss: 0.3344 - val_accuracy: 0.8946\n",
      "Epoch 20/30\n",
      "55000/55000 [==============================] - 6s 117us/sample - loss: 0.1625 - accuracy: 0.9381 - val_loss: 0.3617 - val_accuracy: 0.8966\n",
      "Epoch 21/30\n",
      "55000/55000 [==============================] - 6s 103us/sample - loss: 0.1585 - accuracy: 0.9400 - val_loss: 0.3673 - val_accuracy: 0.8946\n",
      "Epoch 22/30\n",
      "55000/55000 [==============================] - 6s 105us/sample - loss: 0.1522 - accuracy: 0.9425 - val_loss: 0.3788 - val_accuracy: 0.9006\n",
      "Epoch 23/30\n",
      "55000/55000 [==============================] - 6s 112us/sample - loss: 0.1499 - accuracy: 0.9428 - val_loss: 0.3802 - val_accuracy: 0.8904\n",
      "Epoch 24/30\n",
      "55000/55000 [==============================] - 6s 102us/sample - loss: 0.1457 - accuracy: 0.9443 - val_loss: 0.3714 - val_accuracy: 0.8960\n",
      "Epoch 25/30\n",
      "55000/55000 [==============================] - 6s 109us/sample - loss: 0.1419 - accuracy: 0.9456 - val_loss: 0.3855 - val_accuracy: 0.8950\n",
      "Epoch 26/30\n",
      "55000/55000 [==============================] - 6s 104us/sample - loss: 0.1413 - accuracy: 0.9462 - val_loss: 0.3871 - val_accuracy: 0.8968\n",
      "Epoch 27/30\n",
      "55000/55000 [==============================] - 6s 103us/sample - loss: 0.1362 - accuracy: 0.9473 - val_loss: 0.4021 - val_accuracy: 0.9006\n",
      "Epoch 28/30\n",
      "55000/55000 [==============================] - 6s 111us/sample - loss: 0.1339 - accuracy: 0.9491 - val_loss: 0.4078 - val_accuracy: 0.8972\n",
      "Epoch 29/30\n",
      "55000/55000 [==============================] - 6s 102us/sample - loss: 0.1285 - accuracy: 0.9506 - val_loss: 0.4442 - val_accuracy: 0.8936\n",
      "Epoch 30/30\n",
      "55000/55000 [==============================] - 6s 102us/sample - loss: 0.1268 - accuracy: 0.9511 - val_loss: 0.4106 - val_accuracy: 0.9010\n"
     ]
    }
   ],
   "source": [
    "history = model.fit(X_train, y_train, batch_size=32, epochs=30,\n",
    "                    validation_data=(X_valid, y_valid))"
   ]
  },
  {
   "cell_type": "code",
   "execution_count": 42,
   "metadata": {},
   "outputs": [
    {
     "data": {
      "text/plain": [
       "{'batch_size': 32,\n",
       " 'epochs': 30,\n",
       " 'steps': 1719,\n",
       " 'samples': 55000,\n",
       " 'verbose': 0,\n",
       " 'do_validation': True,\n",
       " 'metrics': ['loss', 'accuracy', 'val_loss', 'val_accuracy']}"
      ]
     },
     "execution_count": 42,
     "metadata": {},
     "output_type": "execute_result"
    }
   ],
   "source": [
    "history.params"
   ]
  },
  {
   "cell_type": "code",
   "execution_count": 43,
   "metadata": {},
   "outputs": [
    {
     "name": "stdout",
     "output_type": "stream",
     "text": [
      "[0, 1, 2, 3, 4, 5, 6, 7, 8, 9, 10, 11, 12, 13, 14, 15, 16, 17, 18, 19, 20, 21, 22, 23, 24, 25, 26, 27, 28, 29]\n"
     ]
    }
   ],
   "source": [
    "print(history.epoch)"
   ]
  },
  {
   "cell_type": "code",
   "execution_count": 44,
   "metadata": {},
   "outputs": [
    {
     "data": {
      "text/plain": [
       "dict_keys(['loss', 'accuracy', 'val_loss', 'val_accuracy'])"
      ]
     },
     "execution_count": 44,
     "metadata": {},
     "output_type": "execute_result"
    }
   ],
   "source": [
    "history.history.keys()"
   ]
  },
  {
   "cell_type": "markdown",
   "metadata": {},
   "source": [
    "Plot learning curves\n"
   ]
  },
  {
   "cell_type": "code",
   "execution_count": 45,
   "metadata": {},
   "outputs": [
    {
     "data": {
      "image/png": "[encoded data removed]",
      "text/plain": [
       "<Figure size 576x360 with 1 Axes>"
      ]
     },
     "metadata": {
      "needs_background": "light"
     },
     "output_type": "display_data"
    }
   ],
   "source": [
    "pd.DataFrame(history.history).plot(figsize=(8, 5))\n",
    "plt.grid(True)\n",
    "plt.gca().set_ylim(0, 1)\n",
    "plt.show()"
   ]
  },
  {
   "cell_type": "code",
   "execution_count": 46,
   "metadata": {},
   "outputs": [
    {
     "name": "stdout",
     "output_type": "stream",
     "text": [
      "10000/10000 [==============================] - 1s 55us/sample - loss: 0.4371 - accuracy: 0.8936\n"
     ]
    },
    {
     "data": {
      "text/plain": [
       "[0.4370580168934539, 0.8936]"
      ]
     },
     "execution_count": 46,
     "metadata": {},
     "output_type": "execute_result"
    }
   ],
   "source": [
    "model.evaluate(X_test, y_test)"
   ]
  },
  {
   "cell_type": "code",
   "execution_count": 47,
   "metadata": {},
   "outputs": [
    {
     "data": {
      "text/plain": [
       "array([[0., 0., 0., 0., 0., 0., 0., 0., 0., 1.],\n",
       "       [0., 0., 1., 0., 0., 0., 0., 0., 0., 0.],\n",
       "       [0., 1., 0., 0., 0., 0., 0., 0., 0., 0.]], dtype=float32)"
      ]
     },
     "execution_count": 47,
     "metadata": {},
     "output_type": "execute_result"
    }
   ],
   "source": [
    "X_new = X_test[:3]\n",
    "y_proba = model.predict(X_new)\n",
    "y_proba.round(2)"
   ]
  },
  {
   "cell_type": "code",
   "execution_count": 48,
   "metadata": {},
   "outputs": [
    {
     "data": {
      "text/plain": [
       "array([9, 2, 1], dtype=int64)"
      ]
     },
     "execution_count": 48,
     "metadata": {},
     "output_type": "execute_result"
    }
   ],
   "source": [
    "y_pred = model.predict_classes(X_new)\n",
    "y_pred"
   ]
  },
  {
   "cell_type": "code",
   "execution_count": 49,
   "metadata": {},
   "outputs": [
    {
     "data": {
      "text/plain": [
       "array(['Ankle boot', 'Pullover', 'Trouser'], dtype='<U11')"
      ]
     },
     "execution_count": 49,
     "metadata": {},
     "output_type": "execute_result"
    }
   ],
   "source": [
    "np.array(class_names)[y_pred]"
   ]
  },
  {
   "cell_type": "code",
   "execution_count": 50,
   "metadata": {},
   "outputs": [
    {
     "data": {
      "text/plain": [
       "array([9, 2, 1], dtype=uint8)"
      ]
     },
     "execution_count": 50,
     "metadata": {},
     "output_type": "execute_result"
    }
   ],
   "source": [
    "y_new = y_test[:3]\n",
    "y_new"
   ]
  },
  {
   "cell_type": "markdown",
   "metadata": {},
   "source": [
    "## 2) Plot Learning curves when using different batch size"
   ]
  },
  {
   "cell_type": "code",
   "execution_count": 52,
   "metadata": {},
   "outputs": [],
   "source": [
    "model.compile(loss=\"sparse_categorical_crossentropy\",\n",
    "              optimizer=\"sgd\",\n",
    "              metrics=[\"accuracy\"])"
   ]
  },
  {
   "cell_type": "code",
   "execution_count": 54,
   "metadata": {},
   "outputs": [
    {
     "name": "stdout",
     "output_type": "stream",
     "text": [
      "Train on 55000 samples, validate on 5000 samples\n",
      "Epoch 1/30\n",
      "55000/55000 [==============================] - 7s 119us/sample - loss: 0.0655 - accuracy: 0.9756 - val_loss: 0.4555 - val_accuracy: 0.9030\n",
      "Epoch 2/30\n",
      "55000/55000 [==============================] - 7s 133us/sample - loss: 0.0646 - accuracy: 0.9762 - val_loss: 0.4511 - val_accuracy: 0.9052\n",
      "Epoch 3/30\n",
      "55000/55000 [==============================] - 8s 154us/sample - loss: 0.0636 - accuracy: 0.9763 - val_loss: 0.4603 - val_accuracy: 0.9052\n",
      "Epoch 4/30\n",
      "55000/55000 [==============================] - 8s 138us/sample - loss: 0.0625 - accuracy: 0.9769 - val_loss: 0.4647 - val_accuracy: 0.9022\n",
      "Epoch 5/30\n",
      "55000/55000 [==============================] - 9s 171us/sample - loss: 0.0621 - accuracy: 0.9770 - val_loss: 0.4609 - val_accuracy: 0.9026\n",
      "Epoch 6/30\n",
      "55000/55000 [==============================] - 6s 117us/sample - loss: 0.0611 - accuracy: 0.9781 - val_loss: 0.4651 - val_accuracy: 0.9052\n",
      "Epoch 7/30\n",
      "55000/55000 [==============================] - 7s 125us/sample - loss: 0.0602 - accuracy: 0.9776 - val_loss: 0.4767 - val_accuracy: 0.9012\n",
      "Epoch 8/30\n",
      "55000/55000 [==============================] - 8s 140us/sample - loss: 0.0595 - accuracy: 0.9784 - val_loss: 0.4832 - val_accuracy: 0.9022\n",
      "Epoch 9/30\n",
      "55000/55000 [==============================] - 8s 148us/sample - loss: 0.0589 - accuracy: 0.9787 - val_loss: 0.4762 - val_accuracy: 0.9040\n",
      "Epoch 10/30\n",
      "55000/55000 [==============================] - 7s 128us/sample - loss: 0.0578 - accuracy: 0.9793 - val_loss: 0.4801 - val_accuracy: 0.9044\n",
      "Epoch 11/30\n",
      "55000/55000 [==============================] - 7s 121us/sample - loss: 0.0572 - accuracy: 0.9794 - val_loss: 0.4825 - val_accuracy: 0.9034\n",
      "Epoch 12/30\n",
      "55000/55000 [==============================] - 7s 121us/sample - loss: 0.0566 - accuracy: 0.9794 - val_loss: 0.4860 - val_accuracy: 0.9036\n",
      "Epoch 13/30\n",
      "55000/55000 [==============================] - 6s 114us/sample - loss: 0.0557 - accuracy: 0.9802 - val_loss: 0.4897 - val_accuracy: 0.9014\n",
      "Epoch 14/30\n",
      "55000/55000 [==============================] - 7s 128us/sample - loss: 0.0553 - accuracy: 0.9805 - val_loss: 0.4958 - val_accuracy: 0.9024\n",
      "Epoch 15/30\n",
      "55000/55000 [==============================] - 6s 116us/sample - loss: 0.0547 - accuracy: 0.9803 - val_loss: 0.5071 - val_accuracy: 0.9016\n",
      "Epoch 16/30\n",
      "55000/55000 [==============================] - 7s 129us/sample - loss: 0.0541 - accuracy: 0.9811 - val_loss: 0.5046 - val_accuracy: 0.9012\n",
      "Epoch 17/30\n",
      "55000/55000 [==============================] - 6s 117us/sample - loss: 0.0534 - accuracy: 0.9807 - val_loss: 0.5084 - val_accuracy: 0.9032\n",
      "Epoch 18/30\n",
      "55000/55000 [==============================] - 7s 121us/sample - loss: 0.0529 - accuracy: 0.9811 - val_loss: 0.5061 - val_accuracy: 0.9018\n",
      "Epoch 19/30\n",
      "55000/55000 [==============================] - 7s 123us/sample - loss: 0.0522 - accuracy: 0.9811 - val_loss: 0.5118 - val_accuracy: 0.9028\n",
      "Epoch 20/30\n",
      "55000/55000 [==============================] - 7s 134us/sample - loss: 0.0513 - accuracy: 0.9816 - val_loss: 0.5193 - val_accuracy: 0.8996\n",
      "Epoch 21/30\n",
      "55000/55000 [==============================] - 9s 162us/sample - loss: 0.0512 - accuracy: 0.9822 - val_loss: 0.5156 - val_accuracy: 0.9004\n",
      "Epoch 22/30\n",
      "55000/55000 [==============================] - 6s 118us/sample - loss: 0.0508 - accuracy: 0.9819 - val_loss: 0.5205 - val_accuracy: 0.8992\n",
      "Epoch 23/30\n",
      "55000/55000 [==============================] - 8s 144us/sample - loss: 0.0498 - accuracy: 0.9824 - val_loss: 0.5256 - val_accuracy: 0.9010\n",
      "Epoch 24/30\n",
      "55000/55000 [==============================] - 6s 107us/sample - loss: 0.0493 - accuracy: 0.9824 - val_loss: 0.5285 - val_accuracy: 0.9016\n",
      "Epoch 25/30\n",
      "55000/55000 [==============================] - 7s 128us/sample - loss: 0.0488 - accuracy: 0.9830 - val_loss: 0.5325 - val_accuracy: 0.8994\n",
      "Epoch 26/30\n",
      "55000/55000 [==============================] - 6s 114us/sample - loss: 0.0482 - accuracy: 0.9835 - val_loss: 0.5405 - val_accuracy: 0.9012\n",
      "Epoch 27/30\n",
      "55000/55000 [==============================] - 7s 121us/sample - loss: 0.0475 - accuracy: 0.9833 - val_loss: 0.5372 - val_accuracy: 0.9014\n",
      "Epoch 28/30\n",
      "55000/55000 [==============================] - 7s 120us/sample - loss: 0.0469 - accuracy: 0.9831 - val_loss: 0.5394 - val_accuracy: 0.8990\n",
      "Epoch 29/30\n",
      "55000/55000 [==============================] - 6s 115us/sample - loss: 0.0467 - accuracy: 0.9839 - val_loss: 0.5445 - val_accuracy: 0.9020\n",
      "Epoch 30/30\n",
      "55000/55000 [==============================] - 6s 113us/sample - loss: 0.0461 - accuracy: 0.9838 - val_loss: 0.5442 - val_accuracy: 0.9002\n"
     ]
    }
   ],
   "source": [
    "history = model.fit(X_train, y_train, batch_size=20, epochs=30,\n",
    "                    validation_data=(X_valid, y_valid))"
   ]
  },
  {
   "cell_type": "code",
   "execution_count": 55,
   "metadata": {},
   "outputs": [
    {
     "data": {
      "text/plain": [
       "{'batch_size': 20,\n",
       " 'epochs': 30,\n",
       " 'steps': 2750,\n",
       " 'samples': 55000,\n",
       " 'verbose': 0,\n",
       " 'do_validation': True,\n",
       " 'metrics': ['loss', 'accuracy', 'val_loss', 'val_accuracy']}"
      ]
     },
     "execution_count": 55,
     "metadata": {},
     "output_type": "execute_result"
    }
   ],
   "source": [
    "history.params"
   ]
  },
  {
   "cell_type": "code",
   "execution_count": 56,
   "metadata": {},
   "outputs": [
    {
     "name": "stdout",
     "output_type": "stream",
     "text": [
      "[0, 1, 2, 3, 4, 5, 6, 7, 8, 9, 10, 11, 12, 13, 14, 15, 16, 17, 18, 19, 20, 21, 22, 23, 24, 25, 26, 27, 28, 29]\n"
     ]
    }
   ],
   "source": [
    "print(history.epoch)"
   ]
  },
  {
   "cell_type": "code",
   "execution_count": 57,
   "metadata": {},
   "outputs": [
    {
     "data": {
      "text/plain": [
       "dict_keys(['loss', 'accuracy', 'val_loss', 'val_accuracy'])"
      ]
     },
     "execution_count": 57,
     "metadata": {},
     "output_type": "execute_result"
    }
   ],
   "source": [
    "history.history.keys()"
   ]
  },
  {
   "cell_type": "markdown",
   "metadata": {},
   "source": [
    "Plot learning curve"
   ]
  },
  {
   "cell_type": "code",
   "execution_count": 58,
   "metadata": {},
   "outputs": [
    {
     "data": {
      "image/png": "[encoded data removed]",
      "text/plain": [
       "<Figure size 576x360 with 1 Axes>"
      ]
     },
     "metadata": {
      "needs_background": "light"
     },
     "output_type": "display_data"
    }
   ],
   "source": [
    "pd.DataFrame(history.history).plot(figsize=(8, 5))\n",
    "plt.grid(True)\n",
    "plt.gca().set_ylim(0, 1)\n",
    "plt.show()"
   ]
  },
  {
   "cell_type": "markdown",
   "metadata": {},
   "source": [
    "## 3) Plot Learning curves when using different number of epochs"
   ]
  },
  {
   "cell_type": "code",
   "execution_count": 59,
   "metadata": {},
   "outputs": [
    {
     "name": "stdout",
     "output_type": "stream",
     "text": [
      "Train on 55000 samples, validate on 5000 samples\n",
      "Epoch 1/20\n",
      "55000/55000 [==============================] - 5s 97us/sample - loss: 0.0439 - accuracy: 0.9850 - val_loss: 0.5509 - val_accuracy: 0.9002\n",
      "Epoch 2/20\n",
      "55000/55000 [==============================] - 5s 89us/sample - loss: 0.0431 - accuracy: 0.9855 - val_loss: 0.5505 - val_accuracy: 0.9024\n",
      "Epoch 3/20\n",
      "55000/55000 [==============================] - 5s 85us/sample - loss: 0.0431 - accuracy: 0.9856 - val_loss: 0.5493 - val_accuracy: 0.9010\n",
      "Epoch 4/20\n",
      "55000/55000 [==============================] - 5s 86us/sample - loss: 0.0429 - accuracy: 0.9855 - val_loss: 0.5551 - val_accuracy: 0.9002\n",
      "Epoch 5/20\n",
      "55000/55000 [==============================] - 5s 92us/sample - loss: 0.0424 - accuracy: 0.9857 - val_loss: 0.5557 - val_accuracy: 0.9024\n",
      "Epoch 6/20\n",
      "55000/55000 [==============================] - 5s 88us/sample - loss: 0.0421 - accuracy: 0.9857 - val_loss: 0.5611 - val_accuracy: 0.8992\n",
      "Epoch 7/20\n",
      "55000/55000 [==============================] - 5s 90us/sample - loss: 0.0416 - accuracy: 0.9863 - val_loss: 0.5577 - val_accuracy: 0.9010\n",
      "Epoch 8/20\n",
      "55000/55000 [==============================] - 5s 84us/sample - loss: 0.0413 - accuracy: 0.9859 - val_loss: 0.5650 - val_accuracy: 0.9002\n",
      "Epoch 9/20\n",
      "55000/55000 [==============================] - 5s 85us/sample - loss: 0.0411 - accuracy: 0.9863 - val_loss: 0.5637 - val_accuracy: 0.8994\n",
      "Epoch 10/20\n",
      "55000/55000 [==============================] - 4s 77us/sample - loss: 0.0408 - accuracy: 0.9868 - val_loss: 0.5658 - val_accuracy: 0.8998\n",
      "Epoch 11/20\n",
      "55000/55000 [==============================] - 5s 87us/sample - loss: 0.0404 - accuracy: 0.9867 - val_loss: 0.5670 - val_accuracy: 0.8988\n",
      "Epoch 12/20\n",
      "55000/55000 [==============================] - 5s 94us/sample - loss: 0.0402 - accuracy: 0.9871 - val_loss: 0.5752 - val_accuracy: 0.8990\n",
      "Epoch 13/20\n",
      "55000/55000 [==============================] - 5s 87us/sample - loss: 0.0397 - accuracy: 0.9871 - val_loss: 0.5715 - val_accuracy: 0.8992\n",
      "Epoch 14/20\n",
      "55000/55000 [==============================] - 5s 90us/sample - loss: 0.0395 - accuracy: 0.9869 - val_loss: 0.5775 - val_accuracy: 0.8990\n",
      "Epoch 15/20\n",
      "55000/55000 [==============================] - 5s 91us/sample - loss: 0.0393 - accuracy: 0.9871 - val_loss: 0.5740 - val_accuracy: 0.8978\n",
      "Epoch 16/20\n",
      "55000/55000 [==============================] - 5s 89us/sample - loss: 0.0388 - accuracy: 0.9873 - val_loss: 0.5873 - val_accuracy: 0.8982\n",
      "Epoch 17/20\n",
      "55000/55000 [==============================] - 4s 82us/sample - loss: 0.0387 - accuracy: 0.9874 - val_loss: 0.5810 - val_accuracy: 0.8986\n",
      "Epoch 18/20\n",
      "55000/55000 [==============================] - 4s 78us/sample - loss: 0.0382 - accuracy: 0.9879 - val_loss: 0.5869 - val_accuracy: 0.8982\n",
      "Epoch 19/20\n",
      "55000/55000 [==============================] - 5s 84us/sample - loss: 0.0380 - accuracy: 0.9875 - val_loss: 0.5844 - val_accuracy: 0.8986\n",
      "Epoch 20/20\n",
      "55000/55000 [==============================] - 4s 78us/sample - loss: 0.0379 - accuracy: 0.9875 - val_loss: 0.5856 - val_accuracy: 0.8980\n"
     ]
    }
   ],
   "source": [
    "history = model.fit(X_train, y_train, batch_size=32, epochs=20,\n",
    "                    validation_data=(X_valid, y_valid))"
   ]
  },
  {
   "cell_type": "code",
   "execution_count": 60,
   "metadata": {},
   "outputs": [
    {
     "data": {
      "text/plain": [
       "{'batch_size': 32,\n",
       " 'epochs': 20,\n",
       " 'steps': 1719,\n",
       " 'samples': 55000,\n",
       " 'verbose': 0,\n",
       " 'do_validation': True,\n",
       " 'metrics': ['loss', 'accuracy', 'val_loss', 'val_accuracy']}"
      ]
     },
     "execution_count": 60,
     "metadata": {},
     "output_type": "execute_result"
    }
   ],
   "source": [
    "history.params"
   ]
  },
  {
   "cell_type": "code",
   "execution_count": 61,
   "metadata": {},
   "outputs": [
    {
     "name": "stdout",
     "output_type": "stream",
     "text": [
      "[0, 1, 2, 3, 4, 5, 6, 7, 8, 9, 10, 11, 12, 13, 14, 15, 16, 17, 18, 19]\n"
     ]
    }
   ],
   "source": [
    "print(history.epoch)"
   ]
  },
  {
   "cell_type": "code",
   "execution_count": 62,
   "metadata": {},
   "outputs": [
    {
     "data": {
      "text/plain": [
       "dict_keys(['loss', 'accuracy', 'val_loss', 'val_accuracy'])"
      ]
     },
     "execution_count": 62,
     "metadata": {},
     "output_type": "execute_result"
    }
   ],
   "source": [
    "history.history.keys()"
   ]
  },
  {
   "cell_type": "markdown",
   "metadata": {},
   "source": [
    "Plot learning curve"
   ]
  },
  {
   "cell_type": "code",
   "execution_count": 63,
   "metadata": {},
   "outputs": [
    {
     "data": {
      "image/png": "[encoded data removed]",
      "text/plain": [
       "<Figure size 576x360 with 1 Axes>"
      ]
     },
     "metadata": {
      "needs_background": "light"
     },
     "output_type": "display_data"
    }
   ],
   "source": [
    "pd.DataFrame(history.history).plot(figsize=(8, 5))\n",
    "plt.grid(True)\n",
    "plt.gca().set_ylim(0, 1)\n",
    "plt.show()"
   ]
  },
  {
   "cell_type": "markdown",
   "metadata": {},
   "source": [
    "## 4) repeat with more layers"
   ]
  },
  {
   "cell_type": "markdown",
   "metadata": {},
   "source": [
    "### Constructing a new model with more layers"
   ]
  },
  {
   "cell_type": "code",
   "execution_count": 64,
   "metadata": {},
   "outputs": [],
   "source": [
    "model2 = keras.models.Sequential()\n",
    "model2.add(keras.layers.Flatten(input_shape=[28, 28]))\n",
    "model2.add(keras.layers.Dense(300, activation=\"relu\"))\n",
    "model2.add(keras.layers.Dense(100, activation=\"relu\"))\n",
    "model2.add(keras.layers.Dense(10, activation=\"softmax\"))\n",
    "model2.add(keras.layers.Dense(10, activation=\"softmax\"))\n"
   ]
  },
  {
   "cell_type": "code",
   "execution_count": 65,
   "metadata": {},
   "outputs": [],
   "source": [
    "keras.backend.clear_session()\n",
    "np.random.seed(42)"
   ]
  },
  {
   "cell_type": "code",
   "execution_count": 66,
   "metadata": {},
   "outputs": [
    {
     "data": {
      "text/plain": [
       "[<tensorflow.python.keras.layers.core.Flatten at 0x19bfa5fc048>,\n",
       " <tensorflow.python.keras.layers.core.Dense at 0x19bfa5fc0b8>,\n",
       " <tensorflow.python.keras.layers.core.Dense at 0x19bfa60eba8>,\n",
       " <tensorflow.python.keras.layers.core.Dense at 0x19bfa5ff898>,\n",
       " <tensorflow.python.keras.layers.core.Dense at 0x19bfa5ff828>]"
      ]
     },
     "execution_count": 66,
     "metadata": {},
     "output_type": "execute_result"
    }
   ],
   "source": [
    "model2.layers"
   ]
  },
  {
   "cell_type": "code",
   "execution_count": 68,
   "metadata": {},
   "outputs": [
    {
     "name": "stdout",
     "output_type": "stream",
     "text": [
      "Model: \"sequential\"\n",
      "_________________________________________________________________\n",
      "Layer (type)                 Output Shape              Param #   \n",
      "=================================================================\n",
      "flatten (Flatten)            (None, 784)               0         \n",
      "_________________________________________________________________\n",
      "dense (Dense)                (None, 300)               235500    \n",
      "_________________________________________________________________\n",
      "dense_1 (Dense)              (None, 100)               30100     \n",
      "_________________________________________________________________\n",
      "dense_2 (Dense)              (None, 10)                1010      \n",
      "_________________________________________________________________\n",
      "dense_3 (Dense)              (None, 10)                110       \n",
      "=================================================================\n",
      "Total params: 266,720\n",
      "Trainable params: 266,720\n",
      "Non-trainable params: 0\n",
      "_________________________________________________________________\n"
     ]
    }
   ],
   "source": [
    "model2.summary()"
   ]
  },
  {
   "cell_type": "code",
   "execution_count": 69,
   "metadata": {},
   "outputs": [
    {
     "data": {
      "text/plain": [
       "'dense'"
      ]
     },
     "execution_count": 69,
     "metadata": {},
     "output_type": "execute_result"
    }
   ],
   "source": [
    "hidden1 = model2.layers[1]\n",
    "hidden1.name"
   ]
  },
  {
   "cell_type": "code",
   "execution_count": 70,
   "metadata": {},
   "outputs": [
    {
     "data": {
      "text/plain": [
       "True"
      ]
     },
     "execution_count": 70,
     "metadata": {},
     "output_type": "execute_result"
    }
   ],
   "source": [
    "model2.get_layer(hidden1.name) is hidden1"
   ]
  },
  {
   "cell_type": "code",
   "execution_count": 71,
   "metadata": {},
   "outputs": [],
   "source": [
    "weights, biases = hidden1.get_weights()"
   ]
  },
  {
   "cell_type": "code",
   "execution_count": 72,
   "metadata": {},
   "outputs": [
    {
     "data": {
      "text/plain": [
       "array([[-0.06797289,  0.05778925, -0.05329471, ...,  0.00865234,\n",
       "         0.04485217,  0.0402998 ],\n",
       "       [ 0.01425018, -0.04960448, -0.00026862, ..., -0.07185934,\n",
       "         0.01686675, -0.02058912],\n",
       "       [ 0.07207187, -0.00787614,  0.07101625, ...,  0.04622559,\n",
       "        -0.00242995,  0.05189571],\n",
       "       ...,\n",
       "       [ 0.01946006,  0.03960086, -0.06361563, ..., -0.03625681,\n",
       "        -0.02136099,  0.03359014],\n",
       "       [ 0.00975082, -0.0576326 , -0.02311207, ..., -0.0242549 ,\n",
       "        -0.03876619, -0.0464918 ],\n",
       "       [ 0.02871929, -0.07408004,  0.05898395, ...,  0.04573119,\n",
       "         0.01078376, -0.04767846]], dtype=float32)"
      ]
     },
     "execution_count": 72,
     "metadata": {},
     "output_type": "execute_result"
    }
   ],
   "source": [
    "weights"
   ]
  },
  {
   "cell_type": "code",
   "execution_count": 73,
   "metadata": {},
   "outputs": [
    {
     "data": {
      "text/plain": [
       "(784, 300)"
      ]
     },
     "execution_count": 73,
     "metadata": {},
     "output_type": "execute_result"
    }
   ],
   "source": [
    "weights.shape"
   ]
  },
  {
   "cell_type": "code",
   "execution_count": 74,
   "metadata": {},
   "outputs": [
    {
     "data": {
      "text/plain": [
       "array([0., 0., 0., 0., 0., 0., 0., 0., 0., 0., 0., 0., 0., 0., 0., 0., 0.,\n",
       "       0., 0., 0., 0., 0., 0., 0., 0., 0., 0., 0., 0., 0., 0., 0., 0., 0.,\n",
       "       0., 0., 0., 0., 0., 0., 0., 0., 0., 0., 0., 0., 0., 0., 0., 0., 0.,\n",
       "       0., 0., 0., 0., 0., 0., 0., 0., 0., 0., 0., 0., 0., 0., 0., 0., 0.,\n",
       "       0., 0., 0., 0., 0., 0., 0., 0., 0., 0., 0., 0., 0., 0., 0., 0., 0.,\n",
       "       0., 0., 0., 0., 0., 0., 0., 0., 0., 0., 0., 0., 0., 0., 0., 0., 0.,\n",
       "       0., 0., 0., 0., 0., 0., 0., 0., 0., 0., 0., 0., 0., 0., 0., 0., 0.,\n",
       "       0., 0., 0., 0., 0., 0., 0., 0., 0., 0., 0., 0., 0., 0., 0., 0., 0.,\n",
       "       0., 0., 0., 0., 0., 0., 0., 0., 0., 0., 0., 0., 0., 0., 0., 0., 0.,\n",
       "       0., 0., 0., 0., 0., 0., 0., 0., 0., 0., 0., 0., 0., 0., 0., 0., 0.,\n",
       "       0., 0., 0., 0., 0., 0., 0., 0., 0., 0., 0., 0., 0., 0., 0., 0., 0.,\n",
       "       0., 0., 0., 0., 0., 0., 0., 0., 0., 0., 0., 0., 0., 0., 0., 0., 0.,\n",
       "       0., 0., 0., 0., 0., 0., 0., 0., 0., 0., 0., 0., 0., 0., 0., 0., 0.,\n",
       "       0., 0., 0., 0., 0., 0., 0., 0., 0., 0., 0., 0., 0., 0., 0., 0., 0.,\n",
       "       0., 0., 0., 0., 0., 0., 0., 0., 0., 0., 0., 0., 0., 0., 0., 0., 0.,\n",
       "       0., 0., 0., 0., 0., 0., 0., 0., 0., 0., 0., 0., 0., 0., 0., 0., 0.,\n",
       "       0., 0., 0., 0., 0., 0., 0., 0., 0., 0., 0., 0., 0., 0., 0., 0., 0.,\n",
       "       0., 0., 0., 0., 0., 0., 0., 0., 0., 0., 0.], dtype=float32)"
      ]
     },
     "execution_count": 74,
     "metadata": {},
     "output_type": "execute_result"
    }
   ],
   "source": [
    "biases"
   ]
  },
  {
   "cell_type": "code",
   "execution_count": 75,
   "metadata": {},
   "outputs": [
    {
     "data": {
      "text/plain": [
       "(300,)"
      ]
     },
     "execution_count": 75,
     "metadata": {},
     "output_type": "execute_result"
    }
   ],
   "source": [
    "biases.shape"
   ]
  },
  {
   "cell_type": "markdown",
   "metadata": {},
   "source": [
    "### Compiling the model "
   ]
  },
  {
   "cell_type": "code",
   "execution_count": 76,
   "metadata": {},
   "outputs": [],
   "source": [
    "model2.compile(loss=\"sparse_categorical_crossentropy\",\n",
    "              optimizer=\"sgd\",\n",
    "              metrics=[\"accuracy\"])"
   ]
  },
  {
   "cell_type": "markdown",
   "metadata": {},
   "source": [
    "### Training the model"
   ]
  },
  {
   "cell_type": "code",
   "execution_count": 79,
   "metadata": {},
   "outputs": [
    {
     "name": "stdout",
     "output_type": "stream",
     "text": [
      "Train on 55000 samples, validate on 5000 samples\n",
      "Epoch 1/30\n",
      "55000/55000 [==============================] - 6s 113us/sample - loss: 2.0785 - accuracy: 0.3336 - val_loss: 1.8574 - val_accuracy: 0.3940\n",
      "Epoch 2/30\n",
      "55000/55000 [==============================] - 6s 111us/sample - loss: 1.7206 - accuracy: 0.3972 - val_loss: 1.6014 - val_accuracy: 0.4194\n",
      "Epoch 3/30\n",
      "55000/55000 [==============================] - 6s 110us/sample - loss: 1.5039 - accuracy: 0.4533 - val_loss: 1.4179 - val_accuracy: 0.4808\n",
      "Epoch 4/30\n",
      "55000/55000 [==============================] - 6s 107us/sample - loss: 1.3377 - accuracy: 0.4814 - val_loss: 1.2679 - val_accuracy: 0.5232\n",
      "Epoch 5/30\n",
      "55000/55000 [==============================] - 5s 96us/sample - loss: 1.2320 - accuracy: 0.4964 - val_loss: 1.1811 - val_accuracy: 0.5112\n",
      "Epoch 6/30\n",
      "55000/55000 [==============================] - 4s 80us/sample - loss: 1.1651 - accuracy: 0.5067 - val_loss: 1.1500 - val_accuracy: 0.5136\n",
      "Epoch 7/30\n",
      "55000/55000 [==============================] - 5s 91us/sample - loss: 1.1177 - accuracy: 0.5230 - val_loss: 1.0904 - val_accuracy: 0.5486\n",
      "Epoch 8/30\n",
      "55000/55000 [==============================] - 7s 128us/sample - loss: 1.0812 - accuracy: 0.5389 - val_loss: 1.0667 - val_accuracy: 0.5390\n",
      "Epoch 9/30\n",
      "55000/55000 [==============================] - 6s 104us/sample - loss: 1.0498 - accuracy: 0.5534 - val_loss: 1.0237 - val_accuracy: 0.5550\n",
      "Epoch 10/30\n",
      "55000/55000 [==============================] - 7s 125us/sample - loss: 1.0236 - accuracy: 0.5781 - val_loss: 1.0056 - val_accuracy: 0.5882\n",
      "Epoch 11/30\n",
      "55000/55000 [==============================] - 6s 111us/sample - loss: 1.0015 - accuracy: 0.5891 - val_loss: 0.9930 - val_accuracy: 0.5840\n",
      "Epoch 12/30\n",
      "55000/55000 [==============================] - 8s 145us/sample - loss: 0.9823 - accuracy: 0.5995 - val_loss: 0.9687 - val_accuracy: 0.6220\n",
      "Epoch 13/30\n",
      "55000/55000 [==============================] - 7s 129us/sample - loss: 0.9634 - accuracy: 0.6145 - val_loss: 0.9620 - val_accuracy: 0.5998\n",
      "Epoch 14/30\n",
      "55000/55000 [==============================] - 6s 116us/sample - loss: 0.9465 - accuracy: 0.6205 - val_loss: 0.9472 - val_accuracy: 0.6362\n",
      "Epoch 15/30\n",
      "55000/55000 [==============================] - 7s 125us/sample - loss: 0.9312 - accuracy: 0.6371 - val_loss: 0.9303 - val_accuracy: 0.6308\n",
      "Epoch 16/30\n",
      "55000/55000 [==============================] - 5s 96us/sample - loss: 0.9188 - accuracy: 0.6418 - val_loss: 0.9177 - val_accuracy: 0.6590\n",
      "Epoch 17/30\n",
      "55000/55000 [==============================] - 7s 130us/sample - loss: 0.9047 - accuracy: 0.6520 - val_loss: 0.9189 - val_accuracy: 0.5964\n",
      "Epoch 18/30\n",
      "55000/55000 [==============================] - 5s 95us/sample - loss: 0.8936 - accuracy: 0.6541 - val_loss: 0.9148 - val_accuracy: 0.6506\n",
      "Epoch 19/30\n",
      "55000/55000 [==============================] - 5s 82us/sample - loss: 0.8811 - accuracy: 0.6733 - val_loss: 0.8939 - val_accuracy: 0.6812\n",
      "Epoch 20/30\n",
      "55000/55000 [==============================] - 7s 118us/sample - loss: 0.8693 - accuracy: 0.6769 - val_loss: 0.8909 - val_accuracy: 0.6942\n",
      "Epoch 21/30\n",
      "55000/55000 [==============================] - 5s 94us/sample - loss: 0.8572 - accuracy: 0.6950 - val_loss: 0.8659 - val_accuracy: 0.6778\n",
      "Epoch 22/30\n",
      "55000/55000 [==============================] - 5s 100us/sample - loss: 0.8454 - accuracy: 0.7085 - val_loss: 0.8563 - val_accuracy: 0.7242\n",
      "Epoch 23/30\n",
      "55000/55000 [==============================] - 5s 97us/sample - loss: 0.8300 - accuracy: 0.7325 - val_loss: 0.8446 - val_accuracy: 0.7118\n",
      "Epoch 24/30\n",
      "55000/55000 [==============================] - 5s 90us/sample - loss: 0.8114 - accuracy: 0.7507 - val_loss: 0.8270 - val_accuracy: 0.7642\n",
      "Epoch 25/30\n",
      "55000/55000 [==============================] - 5s 100us/sample - loss: 0.7929 - accuracy: 0.7699 - val_loss: 0.8048 - val_accuracy: 0.7536\n",
      "Epoch 26/30\n",
      "55000/55000 [==============================] - 5s 95us/sample - loss: 0.7726 - accuracy: 0.7799 - val_loss: 0.7929 - val_accuracy: 0.7784\n",
      "Epoch 27/30\n",
      "55000/55000 [==============================] - 5s 93us/sample - loss: 0.7542 - accuracy: 0.7914 - val_loss: 0.7709 - val_accuracy: 0.7870\n",
      "Epoch 28/30\n",
      "55000/55000 [==============================] - 6s 105us/sample - loss: 0.7382 - accuracy: 0.7987 - val_loss: 0.7603 - val_accuracy: 0.7918\n",
      "Epoch 29/30\n",
      "55000/55000 [==============================] - 7s 123us/sample - loss: 0.7240 - accuracy: 0.8046 - val_loss: 0.7661 - val_accuracy: 0.7512\n",
      "Epoch 30/30\n",
      "55000/55000 [==============================] - 7s 121us/sample - loss: 0.7113 - accuracy: 0.8108 - val_loss: 0.7420 - val_accuracy: 0.8014\n"
     ]
    }
   ],
   "source": [
    "history = model2.fit(X_train, y_train, batch_size=32, epochs=30,\n",
    "                    validation_data=(X_valid, y_valid))"
   ]
  },
  {
   "cell_type": "code",
   "execution_count": 80,
   "metadata": {},
   "outputs": [
    {
     "data": {
      "text/plain": [
       "{'batch_size': 32,\n",
       " 'epochs': 30,\n",
       " 'steps': 1719,\n",
       " 'samples': 55000,\n",
       " 'verbose': 0,\n",
       " 'do_validation': True,\n",
       " 'metrics': ['loss', 'accuracy', 'val_loss', 'val_accuracy']}"
      ]
     },
     "execution_count": 80,
     "metadata": {},
     "output_type": "execute_result"
    }
   ],
   "source": [
    "history.params"
   ]
  },
  {
   "cell_type": "code",
   "execution_count": 81,
   "metadata": {},
   "outputs": [
    {
     "name": "stdout",
     "output_type": "stream",
     "text": [
      "[0, 1, 2, 3, 4, 5, 6, 7, 8, 9, 10, 11, 12, 13, 14, 15, 16, 17, 18, 19, 20, 21, 22, 23, 24, 25, 26, 27, 28, 29]\n"
     ]
    }
   ],
   "source": [
    "print(history.epoch)"
   ]
  },
  {
   "cell_type": "code",
   "execution_count": 82,
   "metadata": {},
   "outputs": [
    {
     "data": {
      "text/plain": [
       "dict_keys(['loss', 'accuracy', 'val_loss', 'val_accuracy'])"
      ]
     },
     "execution_count": 82,
     "metadata": {},
     "output_type": "execute_result"
    }
   ],
   "source": [
    "history.history.keys()"
   ]
  },
  {
   "cell_type": "markdown",
   "metadata": {},
   "source": [
    "### Plot learning Curves"
   ]
  },
  {
   "cell_type": "code",
   "execution_count": 83,
   "metadata": {},
   "outputs": [
    {
     "data": {
      "image/png": "[encoded data removed]",
      "text/plain": [
       "<Figure size 576x360 with 1 Axes>"
      ]
     },
     "metadata": {
      "needs_background": "light"
     },
     "output_type": "display_data"
    }
   ],
   "source": [
    "pd.DataFrame(history.history).plot(figsize=(8, 5))\n",
    "plt.grid(True)\n",
    "plt.gca().set_ylim(0, 1)\n",
    "plt.show()"
   ]
  },
  {
   "cell_type": "code",
   "execution_count": 84,
   "metadata": {},
   "outputs": [
    {
     "name": "stdout",
     "output_type": "stream",
     "text": [
      "10000/10000 [==============================] - 1s 54us/sample - loss: 0.6643 - accuracy: 0.8962\n"
     ]
    },
    {
     "data": {
      "text/plain": [
       "[0.6643491710134025, 0.8962]"
      ]
     },
     "execution_count": 84,
     "metadata": {},
     "output_type": "execute_result"
    }
   ],
   "source": [
    "model.evaluate(X_test, y_test)"
   ]
  },
  {
   "cell_type": "code",
   "execution_count": 85,
   "metadata": {},
   "outputs": [
    {
     "data": {
      "text/plain": [
       "array([[0., 0., 0., 0., 0., 0., 0., 0., 0., 1.],\n",
       "       [0., 0., 1., 0., 0., 0., 0., 0., 0., 0.],\n",
       "       [0., 1., 0., 0., 0., 0., 0., 0., 0., 0.]], dtype=float32)"
      ]
     },
     "execution_count": 85,
     "metadata": {},
     "output_type": "execute_result"
    }
   ],
   "source": [
    "X_new = X_test[:3]\n",
    "y_proba = model.predict(X_new)\n",
    "y_proba.round(2)"
   ]
  },
  {
   "cell_type": "code",
   "execution_count": 86,
   "metadata": {},
   "outputs": [
    {
     "data": {
      "text/plain": [
       "array([9, 2, 1], dtype=int64)"
      ]
     },
     "execution_count": 86,
     "metadata": {},
     "output_type": "execute_result"
    }
   ],
   "source": [
    "y_pred = model.predict_classes(X_new)\n",
    "y_pred"
   ]
  },
  {
   "cell_type": "code",
   "execution_count": 87,
   "metadata": {},
   "outputs": [
    {
     "data": {
      "text/plain": [
       "array(['Ankle boot', 'Pullover', 'Trouser'], dtype='<U11')"
      ]
     },
     "execution_count": 87,
     "metadata": {},
     "output_type": "execute_result"
    }
   ],
   "source": [
    "np.array(class_names)[y_pred]"
   ]
  },
  {
   "cell_type": "code",
   "execution_count": 88,
   "metadata": {},
   "outputs": [
    {
     "data": {
      "text/plain": [
       "array([9, 2, 1], dtype=uint8)"
      ]
     },
     "execution_count": 88,
     "metadata": {},
     "output_type": "execute_result"
    }
   ],
   "source": [
    "y_new = y_test[:3]\n",
    "y_new"
   ]
  },
  {
   "cell_type": "code",
   "execution_count": 89,
   "metadata": {},
   "outputs": [
    {
     "data": {
      "image/png": "[encoded data removed]",
      "text/plain": [
       "<Figure size 518.4x172.8 with 3 Axes>"
      ]
     },
     "metadata": {
      "needs_background": "light"
     },
     "output_type": "display_data"
    }
   ],
   "source": [
    "plt.figure(figsize=(7.2, 2.4))\n",
    "for index, image in enumerate(X_new):\n",
    "    plt.subplot(1, 3, index + 1)\n",
    "    plt.imshow(image, cmap=\"binary\", interpolation=\"nearest\")\n",
    "    plt.axis('off')\n",
    "    plt.title(class_names[y_test[index]], fontsize=12)\n",
    "plt.subplots_adjust(wspace=0.2, hspace=0.5)\n",
    "plt.show()"
   ]
  },
  {
   "cell_type": "markdown",
   "metadata": {},
   "source": [
    "## 5) apply on different datasets"
   ]
  },
  {
   "cell_type": "code",
   "execution_count": null,
   "metadata": {},
   "outputs": [],
   "source": []
  }
 ],
 "metadata": {
  "kernelspec": {
   "display_name": "Python 3",
   "language": "python",
   "name": "python3"
  },
  "language_info": {
   "codemirror_mode": {
    "name": "ipython",
    "version": 3
   },
   "file_extension": ".py",
   "mimetype": "text/x-python",
   "name": "python",
   "nbconvert_exporter": "python",
   "pygments_lexer": "ipython3",
   "version": "3.6.12"
  }
 },
 "nbformat": 4,
 "nbformat_minor": 4
}
